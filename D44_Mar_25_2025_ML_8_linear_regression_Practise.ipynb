{
  "cells": [
    {
      "cell_type": "markdown",
      "metadata": {
        "id": "view-in-github",
        "colab_type": "text"
      },
      "source": [
        "<a href=\"https://colab.research.google.com/github/Arjun-vidyasagar/Entri_Capstone_Project/blob/main/D44_Mar_25_2025_ML_8_linear_regression_Practise.ipynb\" target=\"_parent\"><img src=\"https://colab.research.google.com/assets/colab-badge.svg\" alt=\"Open In Colab\"/></a>"
      ]
    },
    {
      "cell_type": "code",
      "execution_count": null,
      "id": "9c6c0ab4-0f36-450d-9feb-17f9f48010af",
      "metadata": {
        "id": "9c6c0ab4-0f36-450d-9feb-17f9f48010af"
      },
      "outputs": [],
      "source": [
        "# Necessary libraries\n",
        "\n",
        "import pandas as pd\n",
        "import numpy as np\n",
        "import matplotlib.pyplot as plt\n",
        "import seaborn as sns\n",
        "from sklearn.model_selection import train_test_split"
      ]
    },
    {
      "cell_type": "code",
      "execution_count": null,
      "id": "f8835c5c-f679-4048-983b-32c1b736764f",
      "metadata": {
        "id": "f8835c5c-f679-4048-983b-32c1b736764f"
      },
      "outputs": [],
      "source": [
        "# for scaling\n",
        "from sklearn.preprocessing import StandardScaler\n",
        "from sklearn.linear_model import LinearRegression # for linear regression\n",
        "from sklearn.metrics import mean_absolute_error, mean_squared_error, r2_score # for evaluation"
      ]
    },
    {
      "cell_type": "code",
      "execution_count": null,
      "id": "e5c29a1d-5a73-4162-b94b-0b5529807ed9",
      "metadata": {
        "id": "e5c29a1d-5a73-4162-b94b-0b5529807ed9"
      },
      "outputs": [],
      "source": [
        "# loading the dataset\n",
        "bs = pd.read_csv('beer-servings.csv', index_col = 0)\n",
        "bs"
      ]
    },
    {
      "cell_type": "code",
      "execution_count": null,
      "id": "e72acf96-d3b3-4d3d-b744-04a811bb8268",
      "metadata": {
        "id": "e72acf96-d3b3-4d3d-b744-04a811bb8268"
      },
      "outputs": [],
      "source": [
        "bs.info()"
      ]
    },
    {
      "cell_type": "code",
      "execution_count": null,
      "id": "0fe41e10-ef55-443e-af93-459faf209882",
      "metadata": {
        "id": "0fe41e10-ef55-443e-af93-459faf209882"
      },
      "outputs": [],
      "source": [
        "# checking for duplicates\n",
        "bs.duplicated().sum()"
      ]
    },
    {
      "cell_type": "code",
      "execution_count": null,
      "id": "ddd64944-0eae-48c8-a3d0-8ae4f566312a",
      "metadata": {
        "id": "ddd64944-0eae-48c8-a3d0-8ae4f566312a"
      },
      "outputs": [],
      "source": [
        "bs['country'].nunique()"
      ]
    },
    {
      "cell_type": "code",
      "execution_count": null,
      "id": "8ae7ef82-6419-4838-9427-5a5bfb7228eb",
      "metadata": {
        "id": "8ae7ef82-6419-4838-9427-5a5bfb7228eb"
      },
      "outputs": [],
      "source": [
        "bs['continent'].nunique()"
      ]
    },
    {
      "cell_type": "code",
      "execution_count": null,
      "id": "c36f78dd-bbb7-4cb5-be88-28d254cc827e",
      "metadata": {
        "id": "c36f78dd-bbb7-4cb5-be88-28d254cc827e"
      },
      "outputs": [],
      "source": [
        "bs['continent'].unique()"
      ]
    },
    {
      "cell_type": "code",
      "execution_count": null,
      "id": "305485ab-409f-4d09-9e57-1600e7712092",
      "metadata": {
        "id": "305485ab-409f-4d09-9e57-1600e7712092"
      },
      "outputs": [],
      "source": [
        "bs['continent'].value_counts()"
      ]
    },
    {
      "cell_type": "code",
      "execution_count": null,
      "id": "2c166e14-2f97-44be-8eda-9e663bbf6aab",
      "metadata": {
        "id": "2c166e14-2f97-44be-8eda-9e663bbf6aab"
      },
      "outputs": [],
      "source": [
        "# dropping the country column\n",
        "bs = bs.drop(columns = ['country'])\n",
        "bs.head()"
      ]
    },
    {
      "cell_type": "code",
      "execution_count": null,
      "id": "9959eed5-14b1-4e66-8762-a06b65661d06",
      "metadata": {
        "id": "9959eed5-14b1-4e66-8762-a06b65661d06"
      },
      "outputs": [],
      "source": [
        "# checking for missing values\n",
        "bs.isnull().sum()"
      ]
    },
    {
      "cell_type": "code",
      "execution_count": null,
      "id": "39a60335-5b59-46de-9c17-8c39f2e0ad47",
      "metadata": {
        "id": "39a60335-5b59-46de-9c17-8c39f2e0ad47"
      },
      "outputs": [],
      "source": [
        "len(bs)"
      ]
    },
    {
      "cell_type": "code",
      "execution_count": null,
      "id": "6bd658e9-e256-42b5-b38b-e57b634279ff",
      "metadata": {
        "id": "6bd658e9-e256-42b5-b38b-e57b634279ff"
      },
      "outputs": [],
      "source": [
        "miss_perc = (bs.isnull().sum()/len(bs))*100\n",
        "miss_perc"
      ]
    },
    {
      "cell_type": "code",
      "execution_count": null,
      "id": "2a39c351-874c-4adf-9d43-df37ea6eb48f",
      "metadata": {
        "id": "2a39c351-874c-4adf-9d43-df37ea6eb48f"
      },
      "outputs": [],
      "source": [
        "# filling the missing values with median of each column\n",
        "for col in ['beer_servings','spirit_servings','wine_servings','total_litres_of_pure_alcohol']:\n",
        "    bs[col] = bs[col].fillna(bs[col].median())"
      ]
    },
    {
      "cell_type": "code",
      "execution_count": null,
      "id": "d0d4b870-6c40-4a90-800f-1fcc855e1b46",
      "metadata": {
        "id": "d0d4b870-6c40-4a90-800f-1fcc855e1b46"
      },
      "outputs": [],
      "source": [
        "miss_perc_after = (bs.isnull().sum()/len(bs))*100\n",
        "miss_perc_after"
      ]
    },
    {
      "cell_type": "code",
      "execution_count": null,
      "id": "04569eb1-daf8-4359-bb77-9b10dcc0c2df",
      "metadata": {
        "id": "04569eb1-daf8-4359-bb77-9b10dcc0c2df"
      },
      "outputs": [],
      "source": [
        "bs.isnull().sum()"
      ]
    },
    {
      "cell_type": "code",
      "execution_count": null,
      "id": "99b46913-7dbf-4654-ab4b-865c83e4b3f6",
      "metadata": {
        "id": "99b46913-7dbf-4654-ab4b-865c83e4b3f6"
      },
      "outputs": [],
      "source": [
        "# Statistics\n",
        "\n",
        "bs.describe()"
      ]
    },
    {
      "cell_type": "code",
      "execution_count": null,
      "id": "d334b243-ff87-44fd-b60c-b54a93a65940",
      "metadata": {
        "id": "d334b243-ff87-44fd-b60c-b54a93a65940"
      },
      "outputs": [],
      "source": [
        "# Visualizing target variable\n",
        "sns.histplot(bs['total_litres_of_pure_alcohol'], bins=10, color='green', kde=True)\n",
        "plt.xlabel('Total Litres of Pure Alcohol')\n",
        "plt.ylabel('Frequency')\n",
        "plt.title('Distribution of Target Variable')\n",
        "plt.show()"
      ]
    },
    {
      "cell_type": "code",
      "execution_count": null,
      "id": "06e63208-4c69-4d67-84c6-07995f2fc6c0",
      "metadata": {
        "id": "06e63208-4c69-4d67-84c6-07995f2fc6c0"
      },
      "outputs": [],
      "source": [
        "# Checking for outliers\n",
        "numerical_columns = ['beer_servings', 'spirit_servings', 'wine_servings']\n",
        "plt.figure(figsize=(10,6))\n",
        "sns.boxplot(data=bs[numerical_columns])\n",
        "plt.title('Outlier Detection')\n",
        "plt.show()"
      ]
    },
    {
      "cell_type": "code",
      "execution_count": null,
      "id": "4ba487ef-54e5-4127-b761-0e0a183f0ecf",
      "metadata": {
        "id": "4ba487ef-54e5-4127-b761-0e0a183f0ecf"
      },
      "outputs": [],
      "source": [
        "# Treating the Outlier using IQR\n",
        "outlier_columns = ['spirit_servings', 'wine_servings']\n",
        "\n",
        "# Calculate the quartiles and IQR for the outlier columns\n",
        "Q1 = bs[outlier_columns].quantile(0.25)\n",
        "Q3 = bs[outlier_columns].quantile(0.75)\n",
        "IQR = Q3 - Q1\n",
        "\n",
        "# Outlier treatment using IQR method (capping at 1.5 times IQR)\n",
        "outliers_lower = bs[outlier_columns] < (Q1 - 1.5 * IQR)\n",
        "outliers_upper = bs[outlier_columns] > (Q3 + 1.5 * IQR)\n",
        "\n",
        "# Cap the outliers to 1.5 times IQR\n",
        "bs[outlier_columns] = bs[outlier_columns].clip(lower=Q1 - 1.5 * IQR, upper=Q3 + 1.5 * IQR, axis = 1)\n",
        "\n",
        "# any below the limit and over the limit is brought to q1 - 1.5*IQR and q3 + 1.5*IQR"
      ]
    },
    {
      "cell_type": "code",
      "execution_count": null,
      "id": "4728a30a-18ef-4271-8c27-639b4eff086b",
      "metadata": {
        "id": "4728a30a-18ef-4271-8c27-639b4eff086b"
      },
      "outputs": [],
      "source": [
        "# Confirm outliers removed\n",
        "outlier_recheck = ['spirit_servings','wine_servings']\n",
        "plt.figure(figsize = (10,7))\n",
        "sns.boxplot(data=bs[outlier_recheck])\n",
        "plt.title('for outliers checking')\n",
        "plt.xlabel('Columns')\n",
        "plt.ylabel('Values')\n",
        "plt.xticks(rotation=45, fontsize = 20)\n",
        "plt.show()"
      ]
    },
    {
      "cell_type": "code",
      "execution_count": null,
      "id": "a5d04f8a-8afd-4695-9c58-dd9091fa24f9",
      "metadata": {
        "id": "a5d04f8a-8afd-4695-9c58-dd9091fa24f9"
      },
      "outputs": [],
      "source": [
        "bs[['spirit_servings','wine_servings']].describe()"
      ]
    },
    {
      "cell_type": "code",
      "execution_count": null,
      "id": "df59002b-633c-43fa-9d27-ba177c05d387",
      "metadata": {
        "id": "df59002b-633c-43fa-9d27-ba177c05d387"
      },
      "outputs": [],
      "source": [
        "bs.head()"
      ]
    },
    {
      "cell_type": "code",
      "execution_count": null,
      "id": "5b615c11-84c6-44ec-b621-691f26520304",
      "metadata": {
        "id": "5b615c11-84c6-44ec-b621-691f26520304"
      },
      "outputs": [],
      "source": [
        "bs.shape"
      ]
    },
    {
      "cell_type": "code",
      "execution_count": null,
      "id": "90faddeb-54cc-4274-94b9-0e7e67ac93c4",
      "metadata": {
        "id": "90faddeb-54cc-4274-94b9-0e7e67ac93c4"
      },
      "outputs": [],
      "source": [
        "from sklearn.preprocessing import OneHotEncoder\n",
        "from sklearn.compose import ColumnTransformer"
      ]
    },
    {
      "cell_type": "code",
      "execution_count": null,
      "id": "948543b4-520f-4c77-a830-1857ba7bcef9",
      "metadata": {
        "id": "948543b4-520f-4c77-a830-1857ba7bcef9"
      },
      "outputs": [],
      "source": [
        "# Initializing OneHotEncoder\n",
        "encoder = OneHotEncoder()"
      ]
    },
    {
      "cell_type": "code",
      "execution_count": null,
      "id": "b23ef1db-8c30-44c4-9dbe-6b25fbc1baa9",
      "metadata": {
        "id": "b23ef1db-8c30-44c4-9dbe-6b25fbc1baa9"
      },
      "outputs": [],
      "source": [
        "# Fitting and transforming the 'continent' column\n",
        "encoded_continent = encoder.fit_transform(bs[['continent']]).toarray()\n",
        "\n",
        "# Getting feature names for the encoded columns\n",
        "encoded_continent_bs = pd.DataFrame(encoded_continent, columns=encoder.get_feature_names_out(['continent']))\n",
        "\n",
        "\n",
        "# Concatenating the encoded columns with the original dataframe\n",
        "one_hot_encoded_bs = pd.concat([bs, encoded_continent_bs], axis=1).drop('continent', axis=1)"
      ]
    },
    {
      "cell_type": "code",
      "execution_count": null,
      "id": "821930ba-b628-4f16-98d3-fcc680c1641d",
      "metadata": {
        "id": "821930ba-b628-4f16-98d3-fcc680c1641d"
      },
      "outputs": [],
      "source": [
        "one_hot_encoded_bs"
      ]
    },
    {
      "cell_type": "code",
      "execution_count": null,
      "id": "4e81adab-6863-42c4-951c-904f4102e314",
      "metadata": {
        "id": "4e81adab-6863-42c4-951c-904f4102e314"
      },
      "outputs": [],
      "source": [
        "# Scaling\n",
        "\n",
        "numerical_columns = ['beer_servings', 'spirit_servings', 'wine_servings']\n",
        "# Feature scaling\n",
        "scaler = StandardScaler()\n",
        "one_hot_encoded_bs[numerical_columns] = scaler.fit_transform(one_hot_encoded_bs[numerical_columns])"
      ]
    },
    {
      "cell_type": "code",
      "execution_count": null,
      "id": "0981cc4a-8d4c-4887-902c-fef7da06d77d",
      "metadata": {
        "id": "0981cc4a-8d4c-4887-902c-fef7da06d77d"
      },
      "outputs": [],
      "source": [
        "one_hot_encoded_bs.head(7)"
      ]
    },
    {
      "cell_type": "code",
      "execution_count": null,
      "id": "6498735f-5621-4178-8108-df25c2afffd2",
      "metadata": {
        "id": "6498735f-5621-4178-8108-df25c2afffd2"
      },
      "outputs": [],
      "source": [
        "one_hot_encoded_bs['beer_servings'].std()"
      ]
    },
    {
      "cell_type": "code",
      "execution_count": null,
      "id": "e3b86c0b-1f93-4b99-95ea-f2b26fc4d4e1",
      "metadata": {
        "id": "e3b86c0b-1f93-4b99-95ea-f2b26fc4d4e1"
      },
      "outputs": [],
      "source": [
        "one_hot_encoded_bs[numerical_columns].skew()"
      ]
    },
    {
      "cell_type": "code",
      "execution_count": null,
      "id": "f8c70957-13e6-4f4f-b473-19c17a106867",
      "metadata": {
        "id": "f8c70957-13e6-4f4f-b473-19c17a106867"
      },
      "outputs": [],
      "source": [
        "# Splitting dataset\n",
        "X = one_hot_encoded_bs.drop(columns=['total_litres_of_pure_alcohol'])\n",
        "y = one_hot_encoded_bs['total_litres_of_pure_alcohol']\n",
        "X_train, X_test, y_train, y_test = train_test_split(X, y, test_size=0.2, random_state=42)"
      ]
    },
    {
      "cell_type": "code",
      "execution_count": null,
      "id": "1bd9e1a0-5192-4292-91e2-609dc5ceb63b",
      "metadata": {
        "id": "1bd9e1a0-5192-4292-91e2-609dc5ceb63b"
      },
      "outputs": [],
      "source": [
        "X_train.shape"
      ]
    },
    {
      "cell_type": "code",
      "execution_count": null,
      "id": "2bdb85d5-ab82-499e-bebf-bab2ddbf0504",
      "metadata": {
        "id": "2bdb85d5-ab82-499e-bebf-bab2ddbf0504"
      },
      "outputs": [],
      "source": [
        "X_test.shape"
      ]
    },
    {
      "cell_type": "code",
      "execution_count": null,
      "id": "97687ca4-0b9d-4318-be1e-7eec40258cc7",
      "metadata": {
        "id": "97687ca4-0b9d-4318-be1e-7eec40258cc7"
      },
      "outputs": [],
      "source": [
        "154+39"
      ]
    },
    {
      "cell_type": "code",
      "execution_count": null,
      "id": "d32d478d-851a-4224-8f32-e46db22dbd6f",
      "metadata": {
        "id": "d32d478d-851a-4224-8f32-e46db22dbd6f"
      },
      "outputs": [],
      "source": [
        "X_train.head()"
      ]
    },
    {
      "cell_type": "code",
      "execution_count": null,
      "id": "bf37ec01-c5ce-4f35-b749-62234609e323",
      "metadata": {
        "id": "bf37ec01-c5ce-4f35-b749-62234609e323"
      },
      "outputs": [],
      "source": [
        "y.head()"
      ]
    },
    {
      "cell_type": "code",
      "execution_count": null,
      "id": "66e4d28f-4828-4196-879c-f50834491835",
      "metadata": {
        "id": "66e4d28f-4828-4196-879c-f50834491835"
      },
      "outputs": [],
      "source": [
        "# Train Linear Regression Model\n",
        "lr_model = LinearRegression()\n",
        "lr_model.fit(X_train, y_train)\n",
        "lr_predictions = lr_model.predict(X_test)"
      ]
    },
    {
      "cell_type": "code",
      "execution_count": null,
      "id": "ebf500aa-ab3d-4272-9184-41a724d47d3b",
      "metadata": {
        "id": "ebf500aa-ab3d-4272-9184-41a724d47d3b"
      },
      "outputs": [],
      "source": [
        "# Function to evaluate model\n",
        "def evaluate_model(y_actual, y_pred, model_name):\n",
        "    print(f\"{model_name} Performance:\")\n",
        "    print(\"MAE:\", mean_absolute_error(y_actual, y_pred))\n",
        "    print(\"MSE:\", mean_squared_error(y_actual, y_pred))\n",
        "    print(\"R2 Score:\", r2_score(y_actual, y_pred))\n",
        "    print(\"\\n\")"
      ]
    },
    {
      "cell_type": "code",
      "execution_count": null,
      "id": "e56851f7-4081-488c-a55e-fc550c9e7066",
      "metadata": {
        "id": "e56851f7-4081-488c-a55e-fc550c9e7066"
      },
      "outputs": [],
      "source": [
        "mean_squared_error(y_test, lr_predictions)"
      ]
    },
    {
      "cell_type": "code",
      "execution_count": null,
      "id": "4636ccd1-03ed-43a8-9e16-5e5f9e075a29",
      "metadata": {
        "id": "4636ccd1-03ed-43a8-9e16-5e5f9e075a29"
      },
      "outputs": [],
      "source": [
        "evaluate_model(y_test, lr_predictions,'Linear Regression')"
      ]
    },
    {
      "cell_type": "code",
      "execution_count": null,
      "id": "6828dacf-a8da-4414-9326-c2cae2180917",
      "metadata": {
        "id": "6828dacf-a8da-4414-9326-c2cae2180917"
      },
      "outputs": [],
      "source": [
        "# Function to visualize actual vs predicted values\n",
        "def visualize_predictions(y_actual, y_pred, model_name):\n",
        "    results_df = pd.DataFrame({'Actual': y_actual.values, 'Predicted': y_pred})\n",
        "    print(results_df.head(30))\n",
        "\n",
        "    plt.figure(figsize=(8,5))\n",
        "    sns.scatterplot(x=y_actual, y=y_pred, color='blue', alpha=0.6)\n",
        "    plt.plot([y_actual.min(), y_actual.max()], [y_actual.min(), y_actual.max()], color='red', linestyle='--')\n",
        "    plt.xlabel(\"Actual Values\")\n",
        "    plt.ylabel(\"Predicted Values\")\n",
        "    plt.title(f\"Actual vs Predicted - {model_name}\")\n",
        "    plt.show()"
      ]
    },
    {
      "cell_type": "code",
      "execution_count": null,
      "id": "07fcae85-4ea2-41fb-99ae-7efed5d616e3",
      "metadata": {
        "id": "07fcae85-4ea2-41fb-99ae-7efed5d616e3"
      },
      "outputs": [],
      "source": [
        "visualize_predictions(y_test, lr_predictions, \"Linear Regression\")"
      ]
    },
    {
      "cell_type": "code",
      "execution_count": null,
      "id": "73e23955-94c3-4ba1-8634-91e178cd3d2c",
      "metadata": {
        "id": "73e23955-94c3-4ba1-8634-91e178cd3d2c"
      },
      "outputs": [],
      "source": [
        "bs.columns"
      ]
    },
    {
      "cell_type": "code",
      "execution_count": null,
      "id": "ac9969c2-ae5a-4399-9916-7269356954a6",
      "metadata": {
        "id": "ac9969c2-ae5a-4399-9916-7269356954a6"
      },
      "outputs": [],
      "source": [
        "# predicting for nerw data\n",
        "\n",
        "# 88, 130, 54 , 4.9(answer)\n",
        "\n",
        "unseen_data = pd.DataFrame([[88, 130, 54, 'Europe']],\n",
        "                           columns = ['beer_servings', 'spirit_servings', 'wine_servings','continent'])"
      ]
    },
    {
      "cell_type": "code",
      "execution_count": null,
      "id": "b33cfe41-f451-479c-8d89-ee8c69ff1665",
      "metadata": {
        "id": "b33cfe41-f451-479c-8d89-ee8c69ff1665"
      },
      "outputs": [],
      "source": [
        "unseen_data"
      ]
    },
    {
      "cell_type": "code",
      "execution_count": null,
      "id": "50854f07-eef0-429d-bf8a-93a0a7950a10",
      "metadata": {
        "id": "50854f07-eef0-429d-bf8a-93a0a7950a10"
      },
      "outputs": [],
      "source": [
        "# Encoding unseen data\n",
        "encoded_unseen = encoder.transform(unseen_data[['continent']]).toarray()\n",
        "unseen_data_encoded = pd.DataFrame(encoded_unseen, columns=encoder.get_feature_names_out(['continent']))\n",
        "unseen_data = pd.concat([unseen_data.drop(columns=['continent']), unseen_data_encoded], axis=1)"
      ]
    },
    {
      "cell_type": "code",
      "execution_count": null,
      "id": "9d1de9ae-6abd-4597-8937-36085724ad3e",
      "metadata": {
        "id": "9d1de9ae-6abd-4597-8937-36085724ad3e"
      },
      "outputs": [],
      "source": [
        "unseen_data"
      ]
    },
    {
      "cell_type": "code",
      "execution_count": null,
      "id": "952a2534-7e46-4b88-a08b-a408b8b3d71d",
      "metadata": {
        "id": "952a2534-7e46-4b88-a08b-a408b8b3d71d"
      },
      "outputs": [],
      "source": [
        "unseen_data[numerical_columns]"
      ]
    },
    {
      "cell_type": "code",
      "execution_count": null,
      "id": "4996e385-0b19-425c-8c51-b22e794839ff",
      "metadata": {
        "id": "4996e385-0b19-425c-8c51-b22e794839ff"
      },
      "outputs": [],
      "source": [
        "# Apply Feature Scaling\n",
        "unseen_data[numerical_columns] = scaler.transform(unseen_data[numerical_columns])\n",
        "unseen_data"
      ]
    },
    {
      "cell_type": "code",
      "execution_count": null,
      "id": "958023c3-d14c-40a2-a25f-559a93878179",
      "metadata": {
        "id": "958023c3-d14c-40a2-a25f-559a93878179"
      },
      "outputs": [],
      "source": [
        "# Make prediction\n",
        "unseen_prediction = lr_model.predict(unseen_data)\n",
        "print(\"Predicted Value for Unseen Data:\", unseen_prediction)"
      ]
    },
    {
      "cell_type": "code",
      "execution_count": null,
      "id": "e540e447-4c43-421d-9658-198c255eacfa",
      "metadata": {
        "id": "e540e447-4c43-421d-9658-198c255eacfa"
      },
      "outputs": [],
      "source": []
    }
  ],
  "metadata": {
    "kernelspec": {
      "display_name": "Python 3 (ipykernel)",
      "language": "python",
      "name": "python3"
    },
    "language_info": {
      "codemirror_mode": {
        "name": "ipython",
        "version": 3
      },
      "file_extension": ".py",
      "mimetype": "text/x-python",
      "name": "python",
      "nbconvert_exporter": "python",
      "pygments_lexer": "ipython3",
      "version": "3.12.4"
    },
    "colab": {
      "provenance": [],
      "include_colab_link": true
    }
  },
  "nbformat": 4,
  "nbformat_minor": 5
}